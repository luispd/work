{
 "cells": [
  {
   "cell_type": "markdown",
   "metadata": {},
   "source": [
    "# Part 2: Launch a Grid Network Locally\n",
    "\n",
    "In this tutorial, you'll learn how to deploy a grid network into a local machine and then interact with it using PySyft.\n",
    "\n",
    "_WARNING: Grid nodes publish datasets online and are for EXPERIMENTAL use only. Deploy nodes at your own risk. Do not use OpenGrid with any data/models you wish to keep private._\n",
    "\n",
    "In order to run an grid network locally you will need to run two different apps: a grid gateway and one or more grid workers. In this tutorial we will use the websocket app available [here](https://github.com/OpenMined/PyGrid/tree/dev/app/websocket) to start the grid workers.\n",
    "\n",
    "\n",
    "## Starting the Grid Gateway\n",
    "\n",
    "\n",
    "### Step 1: Download the repository\n",
    "\n",
    "```bash\n",
    "git clone https://github.com/OpenMined/PyGrid/\n",
    "```\n",
    "\n",
    "\n",
    "### Step 2: Download dependencies\n",
    "\n",
    "You'll need to have the app dependencies installed. We recommend setting up an independent [conda environment](https://docs.conda.io/projects/conda/en/latest/user-guide/concepts/environments.html) to avoid problems with library versions.\n",
    "\n",
    "You can install the dependencies by running:\n",
    "\n",
    "```bash\n",
    "cd PyGrid/gateway/\n",
    "pip install -r requirements.txt\n",
    "```\n",
    "\n",
    "\n",
    "### Step 3: Start gateway app\n",
    "\n",
    "Then to start the app just run the `gateway.py` script. The `--start_local_db` automatically starts a local database so you don't have to configure one yourself.\n",
    "\n",
    "```bash\n",
    "python gateway.py --start_local_db --port=<port_number>\n",
    "```\n",
    "\n",
    "This will start the app on address: `http://0.0.0.0/<port_number>`.\n",
    "\n",
    "To check what other arguments you can use when running this app, run:\n",
    "\n",
    "```bash\n",
    "python gateway.py --help\n",
    "```\n",
    "\n",
    "Let's start a grid gateway on port `5000`\n",
    "\n",
    "```bash\n",
    "python gateway.py --port=5000\n",
    "```\n",
    "\n",
    "Great, so if your app started successfully the script should still be running.\n",
    "\n",
    "## Starting the Grid Worker App\n",
    "\n",
    "### Step 4: Starting the Grid Worker app\n",
    "\n",
    "This is the same procedure already described at Part 1. But we add a new argument when starting the app called `--gateway_url` this should equal to the address used by the grid network here it's \"http://localhost:5000\"\n",
    "\n",
    "Let's start two workers:\n",
    "\n",
    "* bob on port `3000`\n",
    "* alice on port `3001`\n",
    "\n",
    "```bash\n",
    "python websocket_app.py --db_url=redis:///redis:6379 --id=bob --port=3000 --gateway_url=http://localhost:5000\n",
    "```\n",
    "\n",
    "```bash\n",
    "python websocket_app.py --db_url=redis:///redis:6379 --id=alice --port=3001 --gateway_url=http://localhost:5000\n",
    "```\n",
    "\n",
    "We should always start the workers after starting the grid gateway!!\n",
    "\n",
    "Great, so if your app started successfully the script should still be running.\n",
    "\n",
    "\n",
    "### Step 5: Start communication with the Grid Gateway and workers\n",
    "\n",
    "Let's start communication with the Gateway and the workers."
   ]
  },
  {
   "cell_type": "code",
   "execution_count": 1,
   "metadata": {},
   "outputs": [],
   "source": [
    "# General dependencies\n",
    "import torch as th\n",
    "import syft as sy\n",
    "from syft.grid.public_grid import PublicGridNetwork\n",
    "\n",
    "hook = sy.TorchHook(th)"
   ]
  },
  {
   "cell_type": "code",
   "execution_count": 2,
   "metadata": {},
   "outputs": [],
   "source": [
    "GRID_ADDRESS = 'localhost'\n",
    "GRID_PORT = '5000'\n",
    "\n",
    "gateway = PublicGridNetwork(hook,\"http://\" + GRID_ADDRESS + \":\" + GRID_PORT)"
   ]
  },
  {
   "cell_type": "code",
   "execution_count": 3,
   "metadata": {},
   "outputs": [],
   "source": [
    "# WARNING: We should use the same id and port as the one used to start the app!!!\n",
    "bob = NodeClient(hook, \"ws://localhost:3000\")\n",
    "# If you don't connect to the worker you can't send messages to it\n",
    "bob.connect()\n",
    "\n",
    "# WARNING: We should use the same id and port as the one used to start the app!!!\n",
    "alice = NodeClient(hook, \"ws://localhost:3001\")\n",
    "# If you don't connect to the worker you can't send messages to it\n",
    "alice.connect()"
   ]
  },
  {
   "cell_type": "markdown",
   "metadata": {},
   "source": [
    "### Step 6: Use PySyft Like Normal\n",
    "\n",
    "Now you can simply use the worker you created like you would any other normal PySyft worker. For more on how PySyft works, please see the PySyft tutorials: https://github.com/OpenMined/PySyft/tree/master/examples/tutorials"
   ]
  },
  {
   "cell_type": "code",
   "execution_count": 4,
   "metadata": {},
   "outputs": [
    {
     "data": {
      "text/plain": [
       "(Wrapper)>[PointerTensor | me:29680419628 -> bob:81752950542]"
      ]
     },
     "execution_count": 4,
     "metadata": {},
     "output_type": "execute_result"
    }
   ],
   "source": [
    "x = th.tensor([1,2,3,4]).send(bob)\n",
    "x"
   ]
  },
  {
   "cell_type": "code",
   "execution_count": 5,
   "metadata": {},
   "outputs": [
    {
     "data": {
      "text/plain": [
       "(Wrapper)>[PointerTensor | me:18859963688 -> bob:42466099899]"
      ]
     },
     "execution_count": 5,
     "metadata": {},
     "output_type": "execute_result"
    }
   ],
   "source": [
    "y = x + x\n",
    "y"
   ]
  },
  {
   "cell_type": "code",
   "execution_count": 6,
   "metadata": {},
   "outputs": [
    {
     "data": {
      "text/plain": [
       "tensor([2, 4, 6, 8])"
      ]
     },
     "execution_count": 6,
     "metadata": {},
     "output_type": "execute_result"
    }
   ],
   "source": [
    "y.get()"
   ]
  },
  {
   "cell_type": "markdown",
   "metadata": {},
   "source": [
    "### Step 7: Perform operations on Grid Network\n",
    "\n",
    "So far we haven't done anything different, but here is the magic: we can interact with the network to query general information about it."
   ]
  },
  {
   "cell_type": "code",
   "execution_count": 7,
   "metadata": {},
   "outputs": [],
   "source": [
    "x = th.tensor([1, 2, 3, 4, 5]).tag(\"#tensor\").send(bob)"
   ]
  },
  {
   "cell_type": "markdown",
   "metadata": {},
   "source": [
    "We can search for a tensor in the entire network, and get pointers to all tensors."
   ]
  },
  {
   "cell_type": "code",
   "execution_count": 8,
   "metadata": {},
   "outputs": [
    {
     "data": {
      "text/plain": [
       "[[(Wrapper)>[PointerTensor | me:1797921498 -> bob:1664766854]]]"
      ]
     },
     "execution_count": 8,
     "metadata": {},
     "output_type": "execute_result"
    }
   ],
   "source": [
    "gateway.search(\"#tensor\")"
   ]
  },
  {
   "cell_type": "code",
   "execution_count": 9,
   "metadata": {},
   "outputs": [],
   "source": [
    "y = th.tensor([1, 2, 3, 4, 5]).tag(\"#tensor\").send(alice)"
   ]
  },
  {
   "cell_type": "code",
   "execution_count": 10,
   "metadata": {},
   "outputs": [
    {
     "data": {
      "text/plain": [
       "[[(Wrapper)>[PointerTensor | me:40497032036 -> bob:1664766854]],\n",
       " [(Wrapper)>[PointerTensor | me:75678714045 -> alice:96959474372]]]"
      ]
     },
     "execution_count": 10,
     "metadata": {},
     "output_type": "execute_result"
    }
   ],
   "source": [
    "gateway.search(\"#tensor\")"
   ]
  }
 ],
 "metadata": {
  "kernelspec": {
   "display_name": "Python 3",
   "language": "python",
   "name": "python3"
  },
  "language_info": {
   "codemirror_mode": {
    "name": "ipython",
    "version": 3
   },
   "file_extension": ".py",
   "mimetype": "text/x-python",
   "name": "python",
   "nbconvert_exporter": "python",
   "pygments_lexer": "ipython3",
   "version": "3.7.3"
  }
 },
 "nbformat": 4,
 "nbformat_minor": 2
}
